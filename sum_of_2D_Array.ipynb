{
  "nbformat": 4,
  "nbformat_minor": 0,
  "metadata": {
    "colab": {
      "provenance": []
    },
    "kernelspec": {
      "name": "python3",
      "display_name": "Python 3"
    },
    "language_info": {
      "name": "python"
    }
  },
  "cells": [
    {
      "cell_type": "code",
      "execution_count": 1,
      "metadata": {
        "colab": {
          "base_uri": "https://localhost:8080/"
        },
        "id": "CuI_Egfswv19",
        "outputId": "45398d87-7e78-4291-d1e9-c8fd3de80678"
      },
      "outputs": [
        {
          "output_type": "stream",
          "name": "stdout",
          "text": [
            "Sum of the 2-dimensional array: 340\n"
          ]
        }
      ],
      "source": [
        "def sumOf2dArray(arr):\n",
        "    sum = 0\n",
        "    for i in arr:\n",
        "        for j in i:\n",
        "            sum += j\n",
        "    return sum\n",
        "\n",
        "# example of 2D array\n",
        "arr= [\n",
        "    [21, 65],\n",
        "    [54, 39],\n",
        "    [88, 73]\n",
        "    ]\n",
        "\n",
        "# Result of sum of the 2-dimensional array\n",
        "output = sumOf2dArray(arr)\n",
        "print(\"Sum of the 2-dimensional array:\", output)"
      ]
    },
    {
      "cell_type": "code",
      "source": [],
      "metadata": {
        "id": "v1x1GQsZwwuW"
      },
      "execution_count": null,
      "outputs": []
    }
  ]
}